{
 "cells": [
  {
   "cell_type": "code",
   "execution_count": 8,
   "id": "5578701c",
   "metadata": {},
   "outputs": [
    {
     "name": "stdout",
     "output_type": "stream",
     "text": [
      "Extracted columns saved to extracted_columns.xlsx\n"
     ]
    }
   ],
   "source": [
    "import pandas as pd\n",
    "\n",
    "# Load the first Excel file\n",
    "a1 = pd.read_excel('predicted_results.xlsx')\n",
    "\n",
    "# Load the second Excel file\n",
    "a2 = pd.read_excel('predicted_results1.xlsx')\n",
    "\n",
    "# Merge the dataframes on 'respondent_id'\n",
    "merged_data = pd.merge(a1, a2, on='respondent_id')\n",
    "\n",
    "# Extract the desired columns\n",
    "extracted_columns = merged_data[['respondent_id','Prediction_Probabilities_xyz', 'Prediction_Probabilities_seasonal']]\n",
    "\n",
    "# Save the extracted columns to a new Excel file\n",
    "extracted_columns.to_excel('extracted_columns1.xlsx', index=False)\n",
    "\n",
    "print(\"Extracted columns saved to extracted_columns.xlsx\")\n"
   ]
  },
  {
   "cell_type": "code",
   "execution_count": null,
   "id": "35c13280",
   "metadata": {},
   "outputs": [],
   "source": []
  }
 ],
 "metadata": {
  "kernelspec": {
   "display_name": "Python 3 (ipykernel)",
   "language": "python",
   "name": "python3"
  },
  "language_info": {
   "codemirror_mode": {
    "name": "ipython",
    "version": 3
   },
   "file_extension": ".py",
   "mimetype": "text/x-python",
   "name": "python",
   "nbconvert_exporter": "python",
   "pygments_lexer": "ipython3",
   "version": "3.11.5"
  }
 },
 "nbformat": 4,
 "nbformat_minor": 5
}
